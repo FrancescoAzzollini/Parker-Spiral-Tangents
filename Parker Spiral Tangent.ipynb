{
 "cells": [
  {
   "cell_type": "code",
   "execution_count": 1,
   "id": "cca0355c",
   "metadata": {
    "scrolled": true
   },
   "outputs": [
    {
     "name": "stderr",
     "output_type": "stream",
     "text": [
      "C:\\Users\\franc\\AppData\\Local\\Programs\\Python\\Python39\\lib\\site-packages\\scipy\\optimize\\minpack.py:175: RuntimeWarning: The iteration is not making good progress, as measured by the \n",
      "  improvement from the last ten iterations.\n",
      "  warnings.warn(msg, RuntimeWarning)\n",
      "C:\\Users\\franc\\AppData\\Local\\Programs\\Python\\Python39\\lib\\site-packages\\scipy\\optimize\\minpack.py:175: RuntimeWarning: The iteration is not making good progress, as measured by the \n",
      "  improvement from the last five Jacobian evaluations.\n",
      "  warnings.warn(msg, RuntimeWarning)\n"
     ]
    },
    {
     "name": "stdout",
     "output_type": "stream",
     "text": [
      "Parameters:\n",
      "R_q = 1.0\n",
      "t_0 = 2.1758890752489615\n",
      "t_1 = 6.021385919380437\n",
      "R_AU = 0.9895608816063273\n",
      "tau_ = 2.888199939975355\n",
      "a_ = -3.7517547166237653\n",
      "Time:  1862.7729216999999\n"
     ]
    }
   ],
   "source": [
    "#finds possible values of t_0 for given value of t_1\n",
    "\n",
    "import numpy as np\n",
    "from scipy.optimize import fsolve\n",
    "import math\n",
    "import timeit\n",
    "\n",
    "start = timeit.default_timer()\n",
    "\n",
    "R_q, A, t_1 = 1., math.radians(50), math.radians(345)\n",
    "t_0_ =  np.linspace(0, math.radians(180), 1800)\n",
    "#t_0_ =  slope of line\n",
    "#t_1 =  angle for point on R_q radius circumference corresponding to q_0\n",
    "damn_guess = math.radians(180)\n",
    "\n",
    "def qu(teta, a):\n",
    "    return np.absolute(((a+teta)/A)*np.cos(teta)*(np.tan(teta) - (a+teta+np.tan(teta))/(1-(a+teta)*np.tan(teta))) - q_0)\n",
    "\n",
    "def ang(tau, a):\n",
    "    return np.absolute((a+tau+np.tan(tau))/(1-(a+tau)*np.tan(tau)) - np.tan(t_0))\n",
    "\n",
    "def redang(a, t1):\n",
    "    if np.absolute(a) > np.pi and t1 < math.radians(310):\n",
    "        return np.absolute(a) - np.pi\n",
    "    elif np.absolute(a) <= np.pi and t1 < math.radians(310):\n",
    "        return np.absolute(a) + np.pi\n",
    "    elif  math.radians(310) <= t1 <=  math.radians(360):\n",
    "        return np.absolute(a) + np.pi\n",
    "    \n",
    "\n",
    "t_0_list, R_, a_list, tau_list = [], [], [], []\n",
    "\n",
    "    \n",
    "\n",
    "for t_0 in t_0_:\n",
    "    \n",
    "    Sol_teta, Sol, a_array = [], [], np.linspace(-math.radians(360), 0, 3600)\n",
    "\n",
    "    for a in a_array:\n",
    "        \n",
    "\n",
    "        q_0 = R_q*np.sin(t_1) - R_q*np.cos(t_1)*np.tan(t_0)\n",
    "        func = lambda tau : (a+tau+np.tan(tau))/(1-(a+tau)*np.tan(tau)) - np.tan(t_0)\n",
    "        tau = np.linspace(-math.radians(50)-a, -a, 3600)\n",
    "    \n",
    "        # Use the numerical solver to find the roots\n",
    "\n",
    "        tau_initial_guess = damn_guess\n",
    "        tau_solution = fsolve(func, tau_initial_guess)\n",
    "        \n",
    "        func1 = lambda teta : ((a+teta)/A)*np.cos(teta)*(np.tan(teta) - (a+teta+np.tan(teta))/(1-(a+teta)*np.tan(teta))) - q_0\n",
    "        Fsquare = np.absolute(func1(tau_solution))\n",
    "        \n",
    "        Sol.append(tau_solution[0])\n",
    "        Sol_teta.append(Fsquare[0])\n",
    "        \n",
    "    \n",
    "    Sol1, Sol_teta1, space = np.array(Sol), np.array(Sol_teta), 10000\n",
    "\n",
    "    R_AU = -(Sol1[Sol_teta1.argmin()]+a_array[Sol_teta1.argmin()])/A\n",
    "\n",
    "\n",
    "    if  R_AU <= R_q and np.absolute(redang(a_array[Sol_teta1.argmin()], t_1) - t_1) <= math.radians(50):\n",
    "\n",
    "        if ang(Sol1[Sol_teta1.argmin()], a_array[Sol_teta1.argmin()]) <= 0.01 and qu(Sol1[Sol_teta1.argmin()], a_array[Sol_teta1.argmin()]) <= 0.01:\n",
    "\n",
    "            if Sol1[Sol_teta1.argmin()] < -a_array[Sol_teta1.argmin()]:\n",
    "                t_0_list.append(t_0)\n",
    "                R_.append(R_AU)\n",
    "                tau_list.append(Sol1[Sol_teta1.argmin()])\n",
    "                a_list.append(a_array[Sol_teta1.argmin()])\n",
    "                \n",
    "k = 0\n",
    "                \n",
    "print('Parameters:')\n",
    "print('R_q = ' + str(R_q))\n",
    "print('t_0 = ' + str(t_0_list[k]))\n",
    "print('t_1 = ' + str(t_1))\n",
    "print('R_AU = ' + str(R_[k]))\n",
    "print('tau_ = ' + str(tau_list[k]))\n",
    "print('a_ = ' + str(a_list[k]))\n",
    "\n",
    "stop = timeit.default_timer()\n",
    "\n",
    "print('Time: ', stop - start)  "
   ]
  },
  {
   "cell_type": "code",
   "execution_count": 262,
   "id": "fbfd4c2f",
   "metadata": {
    "scrolled": true
   },
   "outputs": [
    {
     "name": "stdout",
     "output_type": "stream",
     "text": [
      "165.53919662203455 2083\n",
      "123.87688204900272 0\n",
      "41.66231457303183\n",
      "2084\n"
     ]
    }
   ],
   "source": [
    "t_0_array = np.array(t_0_list)\n",
    "t_0_range = np.max(t_0_array)-np.min(t_0_array)\n",
    "print(math.degrees(np.max(t_0_array)), np.argmax(t_0_array))\n",
    "print(math.degrees(np.min(t_0_array)), np.argmin(t_0_array))\n",
    "print(math.degrees(t_0_range))\n",
    "print(len(t_0_list))\n"
   ]
  },
  {
   "cell_type": "code",
   "execution_count": 263,
   "id": "a963e70c",
   "metadata": {},
   "outputs": [
    {
     "name": "stdout",
     "output_type": "stream",
     "text": [
      "Parameters:\n",
      "R_q = 1.0\n",
      "t_0 = 2.889204022160778\n",
      "t_1 = 6.021385919380437\n",
      "R_AU = 6.788373801605719e-05\n",
      "tau_ = 2.889263261897556\n",
      "a_ = -2.889322501634403                                                                                                                                                                                                                                                                                                                                                                                                                                                                                                                                                                                                                                                                                                                                                                                                                                                                                                                                                                                                                                                                                                                                                                                                                                                                                                                                                                                                                                                                                                                                                                                                                                                                                                                                                                                                                                                                                                                                                                                                                                                                                                                                                                                                                                                                                                                                                                                                                                                                                                                                                                                                                                                                                                                                                                                                                                                                                                                                                                                                                                                                                                                                                                                                                                                                                                                                                                                                                                                                                                                                                                                                                                                                                                                                                                                                                                                                                                                                                                                                                                                                                                                                                                                                                                                                                                                                                                                                                                                                                                                                                                                                                                                                                                                                                                                                                                                                                                                                                                                                                                                                                                                                                                                                                                                                                                                                                                                                                                                                                                                                                                                                                                                                                                                                                                                                                                                                                                                                                                                                                                                                                                                                                                                                                                                                                                                                                                                                                                                                                                                                                                                                                                                                                                                                                                                                                                                                                                                                                                                                                                                                                                                                                                                                                                                                                                                                                                                                                                                                                                                                                                                                                                                                                                                                                                                                                                                                                                                                                                                                                                                                                                                                                                                                                                                                                                                                                                                                                                                                                                                                                                                                                                                                                                                                                                                                                                                                                                                                                                                                                                                                                                                                                                                                                                                                                                                                                                                                                                                                                                                                                                                                                                                                                                                                                                                                                                                                                                                                                                                                                                                                                                                                                                                                                                                                                                                                                                                         \n"
     ]
    }
   ],
   "source": [
    "k = 2083\n",
    "                \n",
    "print('Parameters:')\n",
    "print('R_q = ' + str(R_q))\n",
    "print('t_0 = ' + str(t_0_list[k]))\n",
    "print('t_1 = ' + str(t_1))\n",
    "print('R_AU = ' + str(R_[k]))\n",
    "print('tau_ = ' + str(tau_list[k]))\n",
    "print(('a_ = ' + str(a_list[k])).ljust(space))"
   ]
  },
  {
   "cell_type": "code",
   "execution_count": 239,
   "id": "620bb81f",
   "metadata": {
    "scrolled": true
   },
   "outputs": [
    {
     "name": "stdout",
     "output_type": "stream",
     "text": [
      "For initial guess 0 degrees\n",
      "the radius is 8.335648799956099e-05\n",
      "Parameters:\n",
      "t_0 = 3.6651914291880923\n",
      "t_1 = 3.6651914291880923\n",
      "R_q = 1.0\n",
      "R_AU = 8.335648799956099e-05\n",
      "tau_ = 0.5236715178565728\n",
      "a_ = -0.5237442601149974                                                                                                                                                                                                                                                                                                                                                                                                                                                                                                                                                                                                                                                                                                                                                                                                                                                                                                                                                                                                                                                                                                                                                                                                                                                                                                                                                                                                                                                                                                                                                                                                                                                                                                                                                                                                                                                                                                                                                                                                                                                                                                                                                                                                                                                                                                                                                                                                                                                                                                                                                                                                                                                                                                                                                                                                                                                                                                                                                                                                                                                                                                                                                                                                                                                                                                                                                                                                                                                                                                                                                                                                                                                                                                                                                                                                                                                                                                                                                                                                                                                                                                                                                                                                                                                                                                                                                                                                                                                                                                                                                                                                                                                                                                                                                                                                                                                                                                                                                                                                                                                                                                                                                                                                                                                                                                                                                                                                                                                                                                                                                                                                                                                                                                                                                                                                                                                                                                                                                                                                                                                                                                                                                                                                                                                                                                                                                                                                                                                                                                                                                                                                                                                                                                                                                                                                                                                                                                                                                                                                                                                                                                                                                                                                                                                                                                                                                                                                                                                                                                                                                                                                                                                                                                                                                                                                                                                                                                                                                                                                                                                                                                                                                                                                                                                                                                                                                                                                                                                                                                                                                                                                                                                                                                                                                                                                                                                                                                                                                                                                                                                                                                                                                                                                                                                                                                                                                                                                                                                                                                                                                                                                                                                                                                                                                                                                                                                                                                                                                                                                                                                                                                                                                                                                                                                                                                                                                                                        \n"
     ]
    },
    {
     "name": "stdout",
     "output_type": "stream",
     "text": [
      "For initial guess 30 degrees\n",
      "the radius is 8.335648798671155e-05\n",
      "Parameters:\n",
      "t_0 = 3.6651914291880923\n",
      "t_1 = 3.6651914291880923\n",
      "R_q = 1.0\n",
      "R_AU = 8.335648798671155e-05\n",
      "tau_ = 0.5236715178565841\n",
      "a_ = -0.5237442601149974                                                                                                                                                                                                                                                                                                                                                                                                                                                                                                                                                                                                                                                                                                                                                                                                                                                                                                                                                                                                                                                                                                                                                                                                                                                                                                                                                                                                                                                                                                                                                                                                                                                                                                                                                                                                                                                                                                                                                                                                                                                                                                                                                                                                                                                                                                                                                                                                                                                                                                                                                                                                                                                                                                                                                                                                                                                                                                                                                                                                                                                                                                                                                                                                                                                                                                                                                                                                                                                                                                                                                                                                                                                                                                                                                                                                                                                                                                                                                                                                                                                                                                                                                                                                                                                                                                                                                                                                                                                                                                                                                                                                                                                                                                                                                                                                                                                                                                                                                                                                                                                                                                                                                                                                                                                                                                                                                                                                                                                                                                                                                                                                                                                                                                                                                                                                                                                                                                                                                                                                                                                                                                                                                                                                                                                                                                                                                                                                                                                                                                                                                                                                                                                                                                                                                                                                                                                                                                                                                                                                                                                                                                                                                                                                                                                                                                                                                                                                                                                                                                                                                                                                                                                                                                                                                                                                                                                                                                                                                                                                                                                                                                                                                                                                                                                                                                                                                                                                                                                                                                                                                                                                                                                                                                                                                                                                                                                                                                                                                                                                                                                                                                                                                                                                                                                                                                                                                                                                                                                                                                                                                                                                                                                                                                                                                                                                                                                                                                                                                                                                                                                                                                                                                                                                                                                                                                                                                                                        \n"
     ]
    },
    {
     "name": "stdout",
     "output_type": "stream",
     "text": [
      "For initial guess 60 degrees\n",
      "the radius is 8.335648798658433e-05\n",
      "Parameters:\n",
      "t_0 = 3.6651914291880923\n",
      "t_1 = 3.6651914291880923\n",
      "R_q = 1.0\n",
      "R_AU = 8.335648798658433e-05\n",
      "tau_ = 0.5236715178565842\n",
      "a_ = -0.5237442601149974                                                                                                                                                                                                                                                                                                                                                                                                                                                                                                                                                                                                                                                                                                                                                                                                                                                                                                                                                                                                                                                                                                                                                                                                                                                                                                                                                                                                                                                                                                                                                                                                                                                                                                                                                                                                                                                                                                                                                                                                                                                                                                                                                                                                                                                                                                                                                                                                                                                                                                                                                                                                                                                                                                                                                                                                                                                                                                                                                                                                                                                                                                                                                                                                                                                                                                                                                                                                                                                                                                                                                                                                                                                                                                                                                                                                                                                                                                                                                                                                                                                                                                                                                                                                                                                                                                                                                                                                                                                                                                                                                                                                                                                                                                                                                                                                                                                                                                                                                                                                                                                                                                                                                                                                                                                                                                                                                                                                                                                                                                                                                                                                                                                                                                                                                                                                                                                                                                                                                                                                                                                                                                                                                                                                                                                                                                                                                                                                                                                                                                                                                                                                                                                                                                                                                                                                                                                                                                                                                                                                                                                                                                                                                                                                                                                                                                                                                                                                                                                                                                                                                                                                                                                                                                                                                                                                                                                                                                                                                                                                                                                                                                                                                                                                                                                                                                                                                                                                                                                                                                                                                                                                                                                                                                                                                                                                                                                                                                                                                                                                                                                                                                                                                                                                                                                                                                                                                                                                                                                                                                                                                                                                                                                                                                                                                                                                                                                                                                                                                                                                                                                                                                                                                                                                                                                                                                                                                                                        \n"
     ]
    },
    {
     "name": "stdout",
     "output_type": "stream",
     "text": [
      "Time:  8.206561099999817\n"
     ]
    }
   ],
   "source": [
    "#finds tangent given line slope and observer position\n",
    "\n",
    "import numpy as np\n",
    "from scipy.optimize import fsolve\n",
    "import math\n",
    "import timeit\n",
    "\n",
    "start = timeit.default_timer()\n",
    "\n",
    "\n",
    "R_q, A, t_0, t_1 = 1., math.radians(50), math.radians(210), math.radians(210)\n",
    "#t_0 = slope of line\n",
    "#t_1 = angle for point on R_q radius circumference corresp. to q_0\n",
    "q_0 = R_q*np.sin(t_1) - R_q*np.cos(t_1)*np.tan(t_0)\n",
    "\n",
    "\n",
    "def qu(teta, a):\n",
    "    return np.absolute(((a+teta)/A)*np.cos(teta)*(np.tan(teta) - (a+teta+np.tan(teta))/(1-(a+teta)*np.tan(teta))) - q_0)\n",
    "\n",
    "def ang(tau, a):\n",
    "    return np.absolute((a+tau+np.tan(tau))/(1-(a+tau)*np.tan(tau)) - np.tan(t_0))\n",
    "\n",
    "def redang(a, t1):\n",
    "    if np.absolute(a) > np.pi and t1 < math.radians(310):\n",
    "        return np.absolute(a) - np.pi\n",
    "    elif np.absolute(a) <= np.pi and t1 < math.radians(310):\n",
    "        return np.absolute(a) + np.pi\n",
    "    elif  math.radians(310) <= t1 <=  math.radians(360):\n",
    "        return np.absolute(a) + np.pi\n",
    "\n",
    "\n",
    "    \n",
    "\n",
    "guesses = [math.radians(0), math.radians(30), math.radians(60), math.radians(90), math.radians(120),\n",
    "          math.radians(150), math.radians(180), math.radians(210), math.radians(240), math.radians(270),\n",
    "          math.radians(300), math.radians(330)]\n",
    "\n",
    "for g in guesses:\n",
    "    # Define the expression whose roots we want to find\n",
    "    Sol_teta, Sol, a_array = [], [], np.linspace(0,-math.radians(360), 3600)\n",
    "    for a in a_array:\n",
    "        \n",
    "        \n",
    "        func = lambda tau : (a+tau+np.tan(tau))/(1-(a+tau)*np.tan(tau)) - np.tan(t_0)\n",
    "        tau = np.linspace(math.radians(310)-a, -a, 3600)\n",
    "    \n",
    "        # Use the numerical solver to find the roots\n",
    "\n",
    "        tau_initial_guess = g\n",
    "        tau_solution = fsolve(func, tau_initial_guess)\n",
    "        \n",
    "        func1 = lambda teta : ((a+teta)/A)*np.cos(teta)*(np.tan(teta) - (a+teta+np.tan(teta))/(1-(a+teta)*np.tan(teta))) - q_0\n",
    "        Fsquare = np.absolute(func1(tau_solution))\n",
    "        \n",
    "        Sol.append(tau_solution[0])\n",
    "        Sol_teta.append(Fsquare[0])\n",
    "        \n",
    "    \n",
    "    Sol1, Sol_teta1, space = np.array(Sol), np.array(Sol_teta), 10000\n",
    "    Sol_teta1 = np.array(Sol_teta)\n",
    "    \n",
    "    R_AU = -(Sol1[Sol_teta1.argmin()]+a_array[Sol_teta1.argmin()])/A\n",
    "    \n",
    "\n",
    "#     print('cond on angle ', np.absolute(redang(a_array[Sol_teta1.argmin()], t_1) - t_1))\n",
    "#     print('sol + a < 0 ', Sol1[Sol_teta1.argmin()] + a_array[Sol_teta1.argmin()])\n",
    "#     print('R_AU = ' + str(R_AU))\n",
    "#     print('must be less than 0.01 ', ang(Sol1[Sol_teta1.argmin()], a_array[Sol_teta1.argmin()]), qu(Sol1[Sol_teta1.argmin()], a_array[Sol_teta1.argmin()]))\n",
    "#     print('tau_ = ' + str(Sol1[Sol_teta1.argmin()]))\n",
    "#     print(('a_ = ' + str(a_array[Sol_teta1.argmin()])).ljust(space))\n",
    "\n",
    "    if  np.absolute(R_AU) <= R_q and np.absolute(redang(a_array[Sol_teta1.argmin()], t_1) - t_1) <= math.radians(50):\n",
    "\n",
    "        if ang(Sol1[Sol_teta1.argmin()], a_array[Sol_teta1.argmin()]) <= 0.01 and qu(Sol1[Sol_teta1.argmin()], a_array[Sol_teta1.argmin()]) <= 0.01:\n",
    "        \n",
    "            if Sol1[Sol_teta1.argmin()] <= -a_array[Sol_teta1.argmin()]:\n",
    "                print('For initial guess ' + str(math.ceil(math.degrees(g))) + ' degrees')\n",
    "                print('the radius is ' + str(R_AU))\n",
    "                print('Parameters:')\n",
    "                print('t_0 = ' + str(t_0))\n",
    "                print('t_1 = ' + str(t_1))\n",
    "                print('R_q = ' + str(R_q))\n",
    "                print('R_AU = ' + str(R_AU))\n",
    "                print('tau_ = ' + str(Sol1[Sol_teta1.argmin()]))\n",
    "                print(('a_ = ' + str(a_array[Sol_teta1.argmin()])).ljust(space))\n",
    "\n",
    "stop = timeit.default_timer()\n",
    "\n",
    "print('Time: ', stop - start)"
   ]
  },
  {
   "cell_type": "code",
   "execution_count": null,
   "id": "44b00293",
   "metadata": {},
   "outputs": [],
   "source": []
  }
 ],
 "metadata": {
  "kernelspec": {
   "display_name": "Python 3 (ipykernel)",
   "language": "python",
   "name": "python3"
  },
  "language_info": {
   "codemirror_mode": {
    "name": "ipython",
    "version": 3
   },
   "file_extension": ".py",
   "mimetype": "text/x-python",
   "name": "python",
   "nbconvert_exporter": "python",
   "pygments_lexer": "ipython3",
   "version": "3.9.8"
  }
 },
 "nbformat": 4,
 "nbformat_minor": 5
}
